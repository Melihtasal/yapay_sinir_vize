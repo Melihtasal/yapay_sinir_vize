{
  "nbformat": 4,
  "nbformat_minor": 0,
  "metadata": {
    "colab": {
      "provenance": []
    },
    "kernelspec": {
      "name": "python3",
      "display_name": "Python 3"
    },
    "language_info": {
      "name": "python"
    }
  },
  "cells": [
    {
      "cell_type": "code",
      "execution_count": 3,
      "metadata": {
        "colab": {
          "base_uri": "https://localhost:8080/"
        },
        "id": "x6nBPYSvLf1U",
        "outputId": "6a18bc21-7bb3-4275-f73e-8eea83b88dab"
      },
      "outputs": [
        {
          "output_type": "stream",
          "name": "stdout",
          "text": [
            "tensor([[0.9997],\n",
            "        [0.9976]])\n"
          ]
        }
      ],
      "source": [
        "# %%\n",
        "import torch\n",
        "import torch . nn as nn\n",
        "\n",
        "torch . manual_seed ( 1 )\n",
        "\n",
        "X = torch . tensor ( [ [1 , 2 , 3 ] ,\n",
        "[4 , 5 , 6 ] ] , dtype = torch . float32 )\n",
        "\n",
        "input_size = X . shape [ 1 ]\n",
        "hidden_size = 50\n",
        "\n",
        "w1 = torch . randn ( input_size , hidden_size , dtype = torch . float32 )\n",
        "b1 = torch . zeros ( hidden_size , dtype = torch . float )\n",
        "\n",
        "def tanh ( x ) :\n",
        "    return ( torch . exp ( x ) - torch . exp ( - x ) ) / ( torch . exp ( x ) + torch . exp ( - x ) )\n",
        "\n",
        "h = tanh ( torch . mm (X , w1 ) + b1 )\n",
        "output_size = 1\n",
        "w2 = torch . randn ( hidden_size , output_size , dtype = torch . float32 )\n",
        "b2 = torch . zeros ( output_size , dtype = torch . float32 )\n",
        "\n",
        "def sigmoid ( x ) :\n",
        "    return 1 / ( 1 + torch . exp ( - x ) )\n",
        "y = sigmoid ( torch . mm (h , w2 ) + b2 )\n",
        "print ( y )\n",
        "\n"
      ]
    },
    {
      "cell_type": "code",
      "source": [
        "import torch\n",
        "import torch.nn as nn\n",
        "\n",
        "# Set the random seed\n",
        "torch.manual_seed(170401042)\n",
        "\n",
        "# Convert matrix X to a tensor\n",
        "X = torch.tensor([[1, 2, 3], [4, 5, 6]], dtype=torch.float32)\n",
        "\n",
        "# Define the neural network\n",
        "class MyNN(nn.Module):\n",
        "    def __init__(self):\n",
        "        super(MyNN, self).__init__()\n",
        "        self.hidden = nn.Linear(3, 50)\n",
        "        self.output = nn.Linear(50, 1)\n",
        "        self.tanh = nn.Tanh()\n",
        "        self.sigmoid = nn.Sigmoid()\n",
        "\n",
        "    def forward(self, x):\n",
        "        x = self.hidden(x)\n",
        "        x = self.tanh(x)\n",
        "        x = self.output(x)\n",
        "        x = self.sigmoid(x)\n",
        "        return x\n",
        "\n",
        "# Instantiate the neural network\n",
        "net = MyNN()\n",
        "\n",
        "# Forward propagation\n",
        "output = net(X)\n",
        "print(output)\n"
      ],
      "metadata": {
        "colab": {
          "base_uri": "https://localhost:8080/"
        },
        "id": "6RTxYyR8LlHd",
        "outputId": "9b149ecf-491c-4293-ed0b-d63073c2c547"
      },
      "execution_count": 2,
      "outputs": [
        {
          "output_type": "stream",
          "name": "stdout",
          "text": [
            "tensor([[0.5702],\n",
            "        [0.5563]], grad_fn=<SigmoidBackward0>)\n"
          ]
        }
      ]
    }
  ]
}